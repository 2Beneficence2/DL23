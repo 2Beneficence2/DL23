{
  "nbformat": 4,
  "nbformat_minor": 0,
  "metadata": {
    "colab": {
      "provenance": [],
      "authorship_tag": "ABX9TyNhSrHLoECjOEkEacIOzhpf",
      "include_colab_link": true
    },
    "kernelspec": {
      "name": "python3",
      "display_name": "Python 3"
    },
    "language_info": {
      "name": "python"
    }
  },
  "cells": [
    {
      "cell_type": "markdown",
      "metadata": {
        "id": "view-in-github",
        "colab_type": "text"
      },
      "source": [
        "<a href=\"https://colab.research.google.com/github/2Beneficence2/DL23/blob/main/Untitled1.ipynb\" target=\"_parent\"><img src=\"https://colab.research.google.com/assets/colab-badge.svg\" alt=\"Open In Colab\"/></a>"
      ]
    },
    {
      "cell_type": "markdown",
      "source": [
        "**\"Mary is frendly.\"를 의문문으로 바꾸기**"
      ],
      "metadata": {
        "id": "uPgrKH1cCSul"
      }
    },
    {
      "cell_type": "code",
      "execution_count": null,
      "metadata": {
        "id": "DZYJABfp44j_"
      },
      "outputs": [],
      "source": [
        "w = \"Mary is friendly.\"\n",
        "a = w.split()\n",
        "w1 = a[0]\n",
        "w2 = a[1]\n",
        "w3 = a[2] + \"?\""
      ]
    },
    {
      "cell_type": "code",
      "source": [
        "w4 = w2[0].upper()+ w2[1]\n",
        "print(w4)"
      ],
      "metadata": {
        "colab": {
          "base_uri": "https://localhost:8080/"
        },
        "id": "42nfkT08ASZ3",
        "outputId": "3c8ed6d3-9581-43d1-94ad-4af308e42183"
      },
      "execution_count": null,
      "outputs": [
        {
          "output_type": "stream",
          "name": "stdout",
          "text": [
            "Is\n"
          ]
        }
      ]
    },
    {
      "cell_type": "code",
      "source": [
        "w3 = w3.replace(\".\",\"\")\n",
        "print(w4 + \" \" + w1 + \" \" + w3)\n"
      ],
      "metadata": {
        "colab": {
          "base_uri": "https://localhost:8080/"
        },
        "id": "dwDGgdSaA_AU",
        "outputId": "6e80be79-84ab-4410-f27c-87f5722b2871"
      },
      "execution_count": null,
      "outputs": [
        {
          "output_type": "stream",
          "name": "stdout",
          "text": [
            "Is Mary friendly?\n"
          ]
        }
      ]
    },
    {
      "cell_type": "markdown",
      "source": [
        "**gTTS Package**"
      ],
      "metadata": {
        "id": "0VB1FA3dDG-U"
      }
    },
    {
      "cell_type": "code",
      "source": [
        "!pip install gtts\n",
        "!pip install IPython\n",
        "from gtts import gTTS\n",
        "from IPython.display import Audio, display"
      ],
      "metadata": {
        "colab": {
          "base_uri": "https://localhost:8080/"
        },
        "id": "BZzzmtOSDSw2",
        "outputId": "1141ffe5-2f08-4418-f928-1404649a1405"
      },
      "execution_count": null,
      "outputs": [
        {
          "output_type": "stream",
          "name": "stdout",
          "text": [
            "Looking in indexes: https://pypi.org/simple, https://us-python.pkg.dev/colab-wheels/public/simple/\n",
            "Collecting gtts\n",
            "  Downloading gTTS-2.3.2-py3-none-any.whl (28 kB)\n",
            "Requirement already satisfied: requests<3,>=2.27 in /usr/local/lib/python3.10/dist-packages (from gtts) (2.27.1)\n",
            "Requirement already satisfied: click<8.2,>=7.1 in /usr/local/lib/python3.10/dist-packages (from gtts) (8.1.3)\n",
            "Requirement already satisfied: urllib3<1.27,>=1.21.1 in /usr/local/lib/python3.10/dist-packages (from requests<3,>=2.27->gtts) (1.26.15)\n",
            "Requirement already satisfied: certifi>=2017.4.17 in /usr/local/lib/python3.10/dist-packages (from requests<3,>=2.27->gtts) (2022.12.7)\n",
            "Requirement already satisfied: charset-normalizer~=2.0.0 in /usr/local/lib/python3.10/dist-packages (from requests<3,>=2.27->gtts) (2.0.12)\n",
            "Requirement already satisfied: idna<4,>=2.5 in /usr/local/lib/python3.10/dist-packages (from requests<3,>=2.27->gtts) (3.4)\n",
            "Installing collected packages: gtts\n",
            "Successfully installed gtts-2.3.2\n",
            "Looking in indexes: https://pypi.org/simple, https://us-python.pkg.dev/colab-wheels/public/simple/\n",
            "Requirement already satisfied: IPython in /usr/local/lib/python3.10/dist-packages (7.34.0)\n",
            "Requirement already satisfied: setuptools>=18.5 in /usr/local/lib/python3.10/dist-packages (from IPython) (67.7.2)\n",
            "Collecting jedi>=0.16 (from IPython)\n",
            "  Downloading jedi-0.18.2-py2.py3-none-any.whl (1.6 MB)\n",
            "\u001b[2K     \u001b[90m━━━━━━━━━━━━━━━━━━━━━━━━━━━━━━━━━━━━━━━━\u001b[0m \u001b[32m1.6/1.6 MB\u001b[0m \u001b[31m54.0 MB/s\u001b[0m eta \u001b[36m0:00:00\u001b[0m\n",
            "\u001b[?25hRequirement already satisfied: decorator in /usr/local/lib/python3.10/dist-packages (from IPython) (4.4.2)\n",
            "Requirement already satisfied: pickleshare in /usr/local/lib/python3.10/dist-packages (from IPython) (0.7.5)\n",
            "Requirement already satisfied: traitlets>=4.2 in /usr/local/lib/python3.10/dist-packages (from IPython) (5.7.1)\n",
            "Requirement already satisfied: prompt-toolkit!=3.0.0,!=3.0.1,<3.1.0,>=2.0.0 in /usr/local/lib/python3.10/dist-packages (from IPython) (3.0.38)\n",
            "Requirement already satisfied: pygments in /usr/local/lib/python3.10/dist-packages (from IPython) (2.14.0)\n",
            "Requirement already satisfied: backcall in /usr/local/lib/python3.10/dist-packages (from IPython) (0.2.0)\n",
            "Requirement already satisfied: matplotlib-inline in /usr/local/lib/python3.10/dist-packages (from IPython) (0.1.6)\n",
            "Requirement already satisfied: pexpect>4.3 in /usr/local/lib/python3.10/dist-packages (from IPython) (4.8.0)\n",
            "Requirement already satisfied: parso<0.9.0,>=0.8.0 in /usr/local/lib/python3.10/dist-packages (from jedi>=0.16->IPython) (0.8.3)\n",
            "Requirement already satisfied: ptyprocess>=0.5 in /usr/local/lib/python3.10/dist-packages (from pexpect>4.3->IPython) (0.7.0)\n",
            "Requirement already satisfied: wcwidth in /usr/local/lib/python3.10/dist-packages (from prompt-toolkit!=3.0.0,!=3.0.1,<3.1.0,>=2.0.0->IPython) (0.2.6)\n",
            "Installing collected packages: jedi\n",
            "Successfully installed jedi-0.18.2\n"
          ]
        }
      ]
    },
    {
      "cell_type": "markdown",
      "source": [
        "**Random module**"
      ],
      "metadata": {
        "id": "48zo4nq-D2WG"
      }
    },
    {
      "cell_type": "code",
      "source": [
        "import random\n",
        "a = random.randint(1,15)\n",
        "a*10\n",
        "print(a*10)\n",
        "print(a)\n",
        "#결과값은 미정. random이기 때문에에"
      ],
      "metadata": {
        "colab": {
          "base_uri": "https://localhost:8080/"
        },
        "id": "Dq5gRH1TECFR",
        "outputId": "d77c9672-e988-4018-8ecf-f334451d01c8"
      },
      "execution_count": null,
      "outputs": [
        {
          "output_type": "stream",
          "name": "stdout",
          "text": [
            "130\n",
            "13\n"
          ]
        }
      ]
    },
    {
      "cell_type": "markdown",
      "source": [
        "**\"Welcome, 2023!\" 을 어떻게 얻는가**"
      ],
      "metadata": {
        "id": "DO_rEhCqE2qK"
      }
    },
    {
      "cell_type": "code",
      "source": [
        "a1 = \"Welcome\"\n",
        "a2 = \"2023\"\n",
        "\n",
        "print(a1 +\",\" +a2 + \"!\" )"
      ],
      "metadata": {
        "colab": {
          "base_uri": "https://localhost:8080/"
        },
        "id": "62-u1X36FAPL",
        "outputId": "449d9ca6-4bf2-4de5-9b5e-ee8853472f0a"
      },
      "execution_count": null,
      "outputs": [
        {
          "output_type": "stream",
          "name": "stdout",
          "text": [
            "Welcome,2023!\n"
          ]
        }
      ]
    },
    {
      "cell_type": "markdown",
      "source": [
        "**화이팅 10번 반복하기**"
      ],
      "metadata": {
        "id": "L2GyM4xSFZdW"
      }
    },
    {
      "cell_type": "code",
      "source": [
        "a = \"화이팅\"\n",
        "a*10"
      ],
      "metadata": {
        "colab": {
          "base_uri": "https://localhost:8080/",
          "height": 36
        },
        "id": "J_g5pTJ_Fi4Z",
        "outputId": "f069f3c4-365a-41c9-d4a0-62bdff5c3646"
      },
      "execution_count": null,
      "outputs": [
        {
          "output_type": "execute_result",
          "data": {
            "text/plain": [
              "'화이팅화이팅화이팅화이팅화이팅화이팅화이팅화이팅화이팅화이팅'"
            ],
            "application/vnd.google.colaboratory.intrinsic+json": {
              "type": "string"
            }
          },
          "metadata": {},
          "execution_count": 62
        }
      ]
    },
    {
      "cell_type": "markdown",
      "source": [
        "**string인 \"2023\"을 integer로 변환하기**"
      ],
      "metadata": {
        "id": "ERE2Wpg4FsqC"
      }
    },
    {
      "cell_type": "code",
      "source": [
        "a1 = \"2023\"\n",
        "a2 = int(a1)\n",
        "print(a2)\n",
        "type(a2)"
      ],
      "metadata": {
        "colab": {
          "base_uri": "https://localhost:8080/"
        },
        "id": "xooIueZAF01O",
        "outputId": "bc519735-34d6-4d1b-f224-60d215a7f9ea"
      },
      "execution_count": null,
      "outputs": [
        {
          "output_type": "stream",
          "name": "stdout",
          "text": [
            "2023\n"
          ]
        },
        {
          "output_type": "execute_result",
          "data": {
            "text/plain": [
              "int"
            ]
          },
          "metadata": {},
          "execution_count": 63
        }
      ]
    },
    {
      "cell_type": "markdown",
      "source": [
        "**List = indexing**"
      ],
      "metadata": {
        "id": "2nQbw1MAGKtx"
      }
    },
    {
      "cell_type": "code",
      "source": [
        "a = [1,2,3]\n",
        "a[0]"
      ],
      "metadata": {
        "colab": {
          "base_uri": "https://localhost:8080/"
        },
        "id": "umCHLOQ_GOPs",
        "outputId": "90669e6d-9202-4d18-a619-20708f4f24b7"
      },
      "execution_count": null,
      "outputs": [
        {
          "output_type": "execute_result",
          "data": {
            "text/plain": [
              "1"
            ]
          },
          "metadata": {},
          "execution_count": 64
        }
      ]
    },
    {
      "cell_type": "markdown",
      "source": [
        "**Range(x,y) 함수**"
      ],
      "metadata": {
        "id": "pBbkJqBKHNHK"
      }
    },
    {
      "cell_type": "code",
      "source": [
        "x1 = range(1,10)\n",
        "list(x1)\n",
        "#왼쪽, 즉 1은 포함하고 오른쪽, 즉 10은 포함하지 않는다."
      ],
      "metadata": {
        "colab": {
          "base_uri": "https://localhost:8080/"
        },
        "id": "xbJPjZUsHRfq",
        "outputId": "fe3b5d24-c551-4e99-dafa-0ded95617f0b"
      },
      "execution_count": null,
      "outputs": [
        {
          "output_type": "execute_result",
          "data": {
            "text/plain": [
              "[1, 2, 3, 4, 5, 6, 7, 8, 9]"
            ]
          },
          "metadata": {},
          "execution_count": 65
        }
      ]
    },
    {
      "cell_type": "code",
      "source": [
        "#list 함수 예시\n",
        "a = [\"banana\", \"potato\", \"apple\"]\n",
        "a[2]"
      ],
      "metadata": {
        "colab": {
          "base_uri": "https://localhost:8080/",
          "height": 36
        },
        "id": "YxWmyF-fHhH-",
        "outputId": "c3b5fa9f-1846-4923-8754-9ced01c9f63d"
      },
      "execution_count": null,
      "outputs": [
        {
          "output_type": "execute_result",
          "data": {
            "text/plain": [
              "'apple'"
            ],
            "application/vnd.google.colaboratory.intrinsic+json": {
              "type": "string"
            }
          },
          "metadata": {},
          "execution_count": 66
        }
      ]
    },
    {
      "cell_type": "markdown",
      "source": [
        "**Dictionary datatype : {key:value}**"
      ],
      "metadata": {
        "id": "5XfMnIgBH4Gp"
      }
    },
    {
      "cell_type": "code",
      "source": [
        "sub = {\"math\": 80, \"music\" : 90, \"English\" : 100}\n",
        "print(\"one of my grades is:\", sub[\"math\"])"
      ],
      "metadata": {
        "colab": {
          "base_uri": "https://localhost:8080/"
        },
        "id": "kzyiMb-UH9QG",
        "outputId": "60dda76d-3b7e-472f-a6e3-1c4bff4c250c"
      },
      "execution_count": null,
      "outputs": [
        {
          "output_type": "stream",
          "name": "stdout",
          "text": [
            "one of my grades is: 80\n"
          ]
        }
      ]
    },
    {
      "cell_type": "markdown",
      "source": [
        "**Input, output 함수**"
      ],
      "metadata": {
        "id": "WQhy7zM9Jaaz"
      }
    },
    {
      "cell_type": "code",
      "source": [
        "num = input()\n",
        "num*5\n",
        "print(num*5)\n",
        "\n",
        "a=int(num)\n",
        "a*5\n",
        "print(a*5)"
      ],
      "metadata": {
        "colab": {
          "base_uri": "https://localhost:8080/"
        },
        "id": "_thXVaOdJnrw",
        "outputId": "25180c66-6bb6-4ce4-9fc8-9da7a4aadd39"
      },
      "execution_count": null,
      "outputs": [
        {
          "output_type": "stream",
          "name": "stdout",
          "text": [
            "2\n",
            "22222\n",
            "10\n"
          ]
        }
      ]
    },
    {
      "cell_type": "markdown",
      "source": [
        "**사귄 시간 구해보기**"
      ],
      "metadata": {
        "id": "3Ea_B-bhKDoh"
      }
    },
    {
      "cell_type": "code",
      "source": [
        "day = input()\n",
        "hours = 24\n",
        "aday = int(day)\n",
        "print(\"The total hours we met are:\", hours*aday)"
      ],
      "metadata": {
        "colab": {
          "base_uri": "https://localhost:8080/"
        },
        "id": "saiTcMAdKIx7",
        "outputId": "ae5e6454-90b9-4053-e293-bcaa5bcdd3c5"
      },
      "execution_count": null,
      "outputs": [
        {
          "output_type": "stream",
          "name": "stdout",
          "text": [
            "2\n",
            "The total hours we met are: 48\n"
          ]
        }
      ]
    },
    {
      "cell_type": "markdown",
      "source": [
        "**data.strip**"
      ],
      "metadata": {
        "id": "qO7ZkY-aLZX4"
      }
    },
    {
      "cell_type": "code",
      "source": [
        "a = \"                      Mary is friendly.                   \"\n",
        "a1 = a.strip()\n",
        "print(a1)"
      ],
      "metadata": {
        "colab": {
          "base_uri": "https://localhost:8080/"
        },
        "id": "f7lRcSO8Ljlp",
        "outputId": "fd58bffb-02ca-4e23-d801-5dab8f98bd2f"
      },
      "execution_count": null,
      "outputs": [
        {
          "output_type": "stream",
          "name": "stdout",
          "text": [
            "Mary is friendly.\n"
          ]
        }
      ]
    },
    {
      "cell_type": "markdown",
      "source": [
        "**data.split**"
      ],
      "metadata": {
        "id": "XxjtE8LcsCbB"
      }
    },
    {
      "cell_type": "code",
      "source": [
        "a = \"mary is friendly.\"\n",
        "a1 = a.split()\n",
        "print(a1)"
      ],
      "metadata": {
        "id": "N2dhhw21sE0N",
        "outputId": "86e55d4b-229b-4770-a054-efdfc6ead971",
        "colab": {
          "base_uri": "https://localhost:8080/"
        }
      },
      "execution_count": 2,
      "outputs": [
        {
          "output_type": "stream",
          "name": "stdout",
          "text": [
            "['mary', 'is', 'friendly.']\n"
          ]
        }
      ]
    },
    {
      "cell_type": "code",
      "source": [
        "a = \"out-of-date\"\n",
        "a1 = a.split('-')\n",
        "print(a1)"
      ],
      "metadata": {
        "id": "JmKpJJvMsRMd",
        "outputId": "3e1f1046-13be-4b21-b68b-d06cc4a014ad",
        "colab": {
          "base_uri": "https://localhost:8080/"
        }
      },
      "execution_count": 6,
      "outputs": [
        {
          "output_type": "stream",
          "name": "stdout",
          "text": [
            "['out', 'of', 'date']\n"
          ]
        }
      ]
    },
    {
      "cell_type": "markdown",
      "source": [
        "**' '.join()**"
      ],
      "metadata": {
        "id": "LKlC4OKjssr2"
      }
    },
    {
      "cell_type": "code",
      "source": [
        "wordlist = ['mary','is','smart']\n",
        "' '.join(wordlist)"
      ],
      "metadata": {
        "id": "b7OYBtKnswyC",
        "outputId": "c0a90615-eefd-468b-ff1f-57c8418595e1",
        "colab": {
          "base_uri": "https://localhost:8080/",
          "height": 36
        }
      },
      "execution_count": 10,
      "outputs": [
        {
          "output_type": "execute_result",
          "data": {
            "text/plain": [
              "'mary is smart'"
            ],
            "application/vnd.google.colaboratory.intrinsic+json": {
              "type": "string"
            }
          },
          "metadata": {},
          "execution_count": 10
        }
      ]
    },
    {
      "cell_type": "markdown",
      "source": [
        "**'mary'라는 단어의 첫글자만 대문자로 나타내기**"
      ],
      "metadata": {
        "id": "7h4VpR8Bu6jM"
      }
    },
    {
      "cell_type": "code",
      "source": [
        "w = \"mary\"\n",
        "f = w[0].upper() + w[1:]\n",
        "print(f)"
      ],
      "metadata": {
        "id": "ZWndg2ZdvAzz",
        "outputId": "d41b9768-ce61-48c3-ad0c-2b12e511987a",
        "colab": {
          "base_uri": "https://localhost:8080/"
        }
      },
      "execution_count": 13,
      "outputs": [
        {
          "output_type": "stream",
          "name": "stdout",
          "text": [
            "Mary\n"
          ]
        }
      ]
    },
    {
      "cell_type": "markdown",
      "source": [
        "**for loops 함수**"
      ],
      "metadata": {
        "id": "mvk991Hnv3W9"
      }
    },
    {
      "cell_type": "code",
      "source": [
        "numbers = [1,2,3,4,5]\n",
        "for num in numbers:\n",
        "  print(num**2)\n",
        "  #square는 제곱을 의미한다. (**로 표시한다.)"
      ],
      "metadata": {
        "id": "m9zQE51Nv7IG",
        "outputId": "18c676ea-0c1a-4830-ed86-4f2bd51b0abf",
        "colab": {
          "base_uri": "https://localhost:8080/"
        }
      },
      "execution_count": 17,
      "outputs": [
        {
          "output_type": "stream",
          "name": "stdout",
          "text": [
            "1\n",
            "4\n",
            "9\n",
            "16\n",
            "25\n"
          ]
        }
      ]
    },
    {
      "cell_type": "markdown",
      "source": [
        "**출석부 DIY**"
      ],
      "metadata": {
        "id": "Jul_kj9mxoTY"
      }
    },
    {
      "cell_type": "code",
      "source": [
        "num_names = input(\"How many names?\")\n",
        "num_names = int(num_names)\n",
        "\n",
        "attendance = []\n",
        "\n",
        "for i in range(0,num_names):\n",
        "  name = input()\n",
        "  attendance.append(name)\n",
        "\n",
        "  print(attendance)"
      ],
      "metadata": {
        "id": "qSQKHKLoxrlO",
        "outputId": "c4f16559-8e58-46c4-df74-631c24c56655",
        "colab": {
          "base_uri": "https://localhost:8080/"
        }
      },
      "execution_count": 18,
      "outputs": [
        {
          "output_type": "stream",
          "name": "stdout",
          "text": [
            "How many names?3\n",
            "김은혜\n",
            "['김은혜']\n",
            "방선형\n",
            "['김은혜', '방선형']\n",
            "안소미\n",
            "['김은혜', '방선형', '안소미']\n"
          ]
        }
      ]
    },
    {
      "cell_type": "markdown",
      "source": [
        "**Demo {gtts}**"
      ],
      "metadata": {
        "id": "zMt__6vMzW8z"
      }
    },
    {
      "cell_type": "code",
      "source": [
        "!pip install gTTS\n",
        "from gtts import gTTS \n",
        "from IPython.display import Audio\n",
        "\n",
        "def tts(text):\n",
        "  gtts_object = gTTS(text,lang =\"en\", slow = True)\n",
        "  gtts_object.save(\"myaudio.mp3\")\n",
        "  return Audio(\"myaudio.mp3\")"
      ],
      "metadata": {
        "id": "9zMhTKWNzZdq",
        "outputId": "dffa2ded-ec4d-4d5f-f254-170897bfb36f",
        "colab": {
          "base_uri": "https://localhost:8080/"
        }
      },
      "execution_count": 19,
      "outputs": [
        {
          "output_type": "stream",
          "name": "stdout",
          "text": [
            "Looking in indexes: https://pypi.org/simple, https://us-python.pkg.dev/colab-wheels/public/simple/\n",
            "Collecting gTTS\n",
            "  Downloading gTTS-2.3.2-py3-none-any.whl (28 kB)\n",
            "Requirement already satisfied: requests<3,>=2.27 in /usr/local/lib/python3.10/dist-packages (from gTTS) (2.27.1)\n",
            "Requirement already satisfied: click<8.2,>=7.1 in /usr/local/lib/python3.10/dist-packages (from gTTS) (8.1.3)\n",
            "Requirement already satisfied: urllib3<1.27,>=1.21.1 in /usr/local/lib/python3.10/dist-packages (from requests<3,>=2.27->gTTS) (1.26.15)\n",
            "Requirement already satisfied: certifi>=2017.4.17 in /usr/local/lib/python3.10/dist-packages (from requests<3,>=2.27->gTTS) (2022.12.7)\n",
            "Requirement already satisfied: charset-normalizer~=2.0.0 in /usr/local/lib/python3.10/dist-packages (from requests<3,>=2.27->gTTS) (2.0.12)\n",
            "Requirement already satisfied: idna<4,>=2.5 in /usr/local/lib/python3.10/dist-packages (from requests<3,>=2.27->gTTS) (3.4)\n",
            "Installing collected packages: gTTS\n",
            "Successfully installed gTTS-2.3.2\n"
          ]
        }
      ]
    },
    {
      "cell_type": "markdown",
      "source": [
        "**Demo calculator**"
      ],
      "metadata": {
        "id": "YrQaUwmd8o2z"
      }
    },
    {
      "cell_type": "code",
      "source": [
        "def add(x,y) :\n",
        "  return x+y\n",
        "def substract(x,y):\n",
        "  return x-y\n",
        "def multiply(x,y):\n",
        "  return(x*y)\n",
        "def divide(x,y):\n",
        "  return(x/4)"
      ],
      "metadata": {
        "id": "LqeGAYVu8vpU"
      },
      "execution_count": 21,
      "outputs": []
    },
    {
      "cell_type": "code",
      "source": [
        "add(2,3)\n",
        "#test"
      ],
      "metadata": {
        "id": "hZXvPbE39L0x",
        "outputId": "1c9f1eda-147e-4622-bbac-836fda764bd6",
        "colab": {
          "base_uri": "https://localhost:8080/"
        }
      },
      "execution_count": 22,
      "outputs": [
        {
          "output_type": "execute_result",
          "data": {
            "text/plain": [
              "5"
            ]
          },
          "metadata": {},
          "execution_count": 22
        }
      ]
    }
  ]
}