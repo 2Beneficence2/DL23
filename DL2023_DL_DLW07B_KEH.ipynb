{
  "nbformat": 4,
  "nbformat_minor": 0,
  "metadata": {
    "colab": {
      "provenance": [],
      "authorship_tag": "ABX9TyMrQLI3lf/LRiXZVEEdo7ch",
      "include_colab_link": true
    },
    "kernelspec": {
      "name": "python3",
      "display_name": "Python 3"
    },
    "language_info": {
      "name": "python"
    }
  },
  "cells": [
    {
      "cell_type": "markdown",
      "metadata": {
        "id": "view-in-github",
        "colab_type": "text"
      },
      "source": [
        "<a href=\"https://colab.research.google.com/github/2Beneficence2/DL23/blob/main/DL2023_DL_DLW07B_KEH.ipynb\" target=\"_parent\"><img src=\"https://colab.research.google.com/assets/colab-badge.svg\" alt=\"Open In Colab\"/></a>"
      ]
    },
    {
      "cell_type": "markdown",
      "source": [
        "# DLW07B Self-test\n",
        "\n",
        "+ string : A string is a sequence of characters enclosed in single or double quotes. \n",
        "+ Integers : Integers are whole numbers, positive or negative, without any decimal points."
      ],
      "metadata": {
        "id": "139F4eIw0EAi"
      }
    },
    {
      "cell_type": "markdown",
      "source": [
        "Exercise 1 : Create a string and an integer"
      ],
      "metadata": {
        "id": "7-PdQzuQ0vzW"
      }
    },
    {
      "cell_type": "code",
      "source": [
        "greeting = \"Hello, students!\"\n",
        "year = 2023"
      ],
      "metadata": {
        "id": "B3uHVzvA08VW"
      },
      "execution_count": 1,
      "outputs": []
    },
    {
      "cell_type": "markdown",
      "source": [
        "Exercise 2 :Print the string and integer"
      ],
      "metadata": {
        "id": "oypTEsB71FFo"
      }
    },
    {
      "cell_type": "code",
      "source": [
        "print(greeting)\n",
        "print(year)"
      ],
      "metadata": {
        "colab": {
          "base_uri": "https://localhost:8080/"
        },
        "id": "e2ggKL5O1Lz6",
        "outputId": "ceff327e-4257-484a-8b41-02d3cf7d537b"
      },
      "execution_count": 2,
      "outputs": [
        {
          "output_type": "stream",
          "name": "stdout",
          "text": [
            "Hello, students!\n",
            "2023\n"
          ]
        }
      ]
    },
    {
      "cell_type": "markdown",
      "source": [
        "Exercise 3 : Concatenate the string and integer"
      ],
      "metadata": {
        "id": "y5Y3z8SA1SUh"
      }
    },
    {
      "cell_type": "code",
      "source": [
        "message = greeting + \" \" +str(year)\n",
        "message"
      ],
      "metadata": {
        "colab": {
          "base_uri": "https://localhost:8080/",
          "height": 36
        },
        "id": "1y32ZADn1cXv",
        "outputId": "a2e372b8-4589-4e23-88d3-49517bf185eb"
      },
      "execution_count": 3,
      "outputs": [
        {
          "output_type": "execute_result",
          "data": {
            "text/plain": [
              "'Hello, students! 2023'"
            ],
            "application/vnd.google.colaboratory.intrinsic+json": {
              "type": "string"
            }
          },
          "metadata": {},
          "execution_count": 3
        }
      ]
    },
    {
      "cell_type": "markdown",
      "source": [
        "Exercise 4 : Perform arithmetic operations with integers"
      ],
      "metadata": {
        "id": "CtIvwlOR1n4A"
      }
    },
    {
      "cell_type": "code",
      "source": [
        "num1= 10\n",
        "num2 = 3\n",
        "\n",
        "print(num1+num2)\n",
        "print(num2-num2)\n",
        "print(num1*num2)\n",
        "print(num1/num2)"
      ],
      "metadata": {
        "colab": {
          "base_uri": "https://localhost:8080/"
        },
        "id": "E5H9Es_31vNz",
        "outputId": "fa8cb6ad-e302-4f02-80e8-603d024a9ede"
      },
      "execution_count": 5,
      "outputs": [
        {
          "output_type": "stream",
          "name": "stdout",
          "text": [
            "13\n",
            "0\n",
            "30\n",
            "3.3333333333333335\n"
          ]
        }
      ]
    },
    {
      "cell_type": "markdown",
      "source": [
        "Exercise 5 : Input string and integer from user"
      ],
      "metadata": {
        "id": "knsEmmfg2COu"
      }
    },
    {
      "cell_type": "code",
      "source": [
        "user_string = input()"
      ],
      "metadata": {
        "colab": {
          "base_uri": "https://localhost:8080/"
        },
        "id": "xMqzv8zM2Izt",
        "outputId": "b5ca78e6-e603-4207-f1fc-be90dc3e228a"
      },
      "execution_count": 6,
      "outputs": [
        {
          "name": "stdout",
          "output_type": "stream",
          "text": [
            "Brian\n"
          ]
        }
      ]
    },
    {
      "cell_type": "code",
      "source": [
        "print(user_string)"
      ],
      "metadata": {
        "colab": {
          "base_uri": "https://localhost:8080/"
        },
        "id": "H-wH37PO2PYb",
        "outputId": "1469dc45-15e7-4527-c103-938e0704efa6"
      },
      "execution_count": 7,
      "outputs": [
        {
          "output_type": "stream",
          "name": "stdout",
          "text": [
            "Brian\n"
          ]
        }
      ]
    },
    {
      "cell_type": "code",
      "source": [
        "user_number = input(\"Type any number: \")"
      ],
      "metadata": {
        "colab": {
          "base_uri": "https://localhost:8080/"
        },
        "id": "QSlfPv3x2Tog",
        "outputId": "43220b77-f5d7-4384-9193-427d78321e2d"
      },
      "execution_count": 9,
      "outputs": [
        {
          "name": "stdout",
          "output_type": "stream",
          "text": [
            "Type any number: 12\n"
          ]
        }
      ]
    },
    {
      "cell_type": "code",
      "source": [
        "user_string = input(\"Type any string: \")\n",
        "user_number = input(\"Type any number: \")\n",
        "user_number = int(user_number)\n",
        "\n",
        "user_string*user_number"
      ],
      "metadata": {
        "colab": {
          "base_uri": "https://localhost:8080/",
          "height": 75
        },
        "id": "iIDVQ2_S2avQ",
        "outputId": "32329d41-f8ca-4756-9262-26d09efe1325"
      },
      "execution_count": 11,
      "outputs": [
        {
          "name": "stdout",
          "output_type": "stream",
          "text": [
            "Type any string: Congratuations!\n",
            "Type any number: 12\n"
          ]
        },
        {
          "output_type": "execute_result",
          "data": {
            "text/plain": [
              "'Congratuations!Congratuations!Congratuations!Congratuations!Congratuations!Congratuations!Congratuations!Congratuations!Congratuations!Congratuations!Congratuations!Congratuations!'"
            ],
            "application/vnd.google.colaboratory.intrinsic+json": {
              "type": "string"
            }
          },
          "metadata": {},
          "execution_count": 11
        }
      ]
    },
    {
      "cell_type": "markdown",
      "source": [
        "Exercise 6 : Splitting a string"
      ],
      "metadata": {
        "id": "ytJua49i29wG"
      }
    },
    {
      "cell_type": "code",
      "source": [
        "sentence = \"Coding is fun and easy to learn!\"\n",
        "\n",
        "sentence.split()"
      ],
      "metadata": {
        "colab": {
          "base_uri": "https://localhost:8080/"
        },
        "id": "cDqPa_wb3B2K",
        "outputId": "a22a3323-88fd-4f89-d986-72d4ca4af13a"
      },
      "execution_count": 12,
      "outputs": [
        {
          "output_type": "execute_result",
          "data": {
            "text/plain": [
              "['Coding', 'is', 'fun', 'and', 'easy', 'to', 'learn!']"
            ]
          },
          "metadata": {},
          "execution_count": 12
        }
      ]
    },
    {
      "cell_type": "markdown",
      "source": [
        "Exercise 7 : Converting strings to uppercase and lowercase"
      ],
      "metadata": {
        "id": "mk_v5UYa3LRD"
      }
    },
    {
      "cell_type": "code",
      "source": [
        "a = \"Coding is Exciting!\"\n",
        "\n",
        "uppercase_text = a.upper()\n",
        "lowercase_text = a.lower()\n",
        "lowercase_text"
      ],
      "metadata": {
        "colab": {
          "base_uri": "https://localhost:8080/",
          "height": 36
        },
        "id": "VKJ14eXq3ViT",
        "outputId": "8621e3ea-ce49-402b-ddf3-d48a006ca0dc"
      },
      "execution_count": 14,
      "outputs": [
        {
          "output_type": "execute_result",
          "data": {
            "text/plain": [
              "'coding is exciting!'"
            ],
            "application/vnd.google.colaboratory.intrinsic+json": {
              "type": "string"
            }
          },
          "metadata": {},
          "execution_count": 14
        }
      ]
    },
    {
      "cell_type": "markdown",
      "source": [
        "Exercise 8 :  String indexing and slicing"
      ],
      "metadata": {
        "id": "P7kX7rnA3ngx"
      }
    },
    {
      "cell_type": "code",
      "source": [
        "quote = \"To be or not to be, that is the question.\""
      ],
      "metadata": {
        "id": "IZNroQDR3rio"
      },
      "execution_count": 18,
      "outputs": []
    },
    {
      "cell_type": "code",
      "source": [
        "quote[0]"
      ],
      "metadata": {
        "colab": {
          "base_uri": "https://localhost:8080/",
          "height": 36
        },
        "id": "VF9XxNNh311u",
        "outputId": "92229099-2ba7-4d4a-aed5-59d2f1af2dfc"
      },
      "execution_count": 19,
      "outputs": [
        {
          "output_type": "execute_result",
          "data": {
            "text/plain": [
              "'T'"
            ],
            "application/vnd.google.colaboratory.intrinsic+json": {
              "type": "string"
            }
          },
          "metadata": {},
          "execution_count": 19
        }
      ]
    },
    {
      "cell_type": "code",
      "source": [
        "quote[-1]"
      ],
      "metadata": {
        "colab": {
          "base_uri": "https://localhost:8080/",
          "height": 36
        },
        "id": "N2I1VETr3333",
        "outputId": "42078fe3-97e4-42f4-ec69-03751aa4cfd7"
      },
      "execution_count": 20,
      "outputs": [
        {
          "output_type": "execute_result",
          "data": {
            "text/plain": [
              "'.'"
            ],
            "application/vnd.google.colaboratory.intrinsic+json": {
              "type": "string"
            }
          },
          "metadata": {},
          "execution_count": 20
        }
      ]
    },
    {
      "cell_type": "code",
      "source": [
        "quote[0:5]"
      ],
      "metadata": {
        "colab": {
          "base_uri": "https://localhost:8080/",
          "height": 36
        },
        "id": "_FdXlvup4MCd",
        "outputId": "bff06c9f-7406-460f-e99c-58ca003a9816"
      },
      "execution_count": 22,
      "outputs": [
        {
          "output_type": "execute_result",
          "data": {
            "text/plain": [
              "'To be'"
            ],
            "application/vnd.google.colaboratory.intrinsic+json": {
              "type": "string"
            }
          },
          "metadata": {},
          "execution_count": 22
        }
      ]
    },
    {
      "cell_type": "code",
      "source": [
        "quote[5:]"
      ],
      "metadata": {
        "colab": {
          "base_uri": "https://localhost:8080/",
          "height": 36
        },
        "id": "KHFD2llD4XXA",
        "outputId": "faf9c85e-10c0-4ff8-f07f-f9e19e53e957"
      },
      "execution_count": 23,
      "outputs": [
        {
          "output_type": "execute_result",
          "data": {
            "text/plain": [
              "' or not to be, that is the question.'"
            ],
            "application/vnd.google.colaboratory.intrinsic+json": {
              "type": "string"
            }
          },
          "metadata": {},
          "execution_count": 23
        }
      ]
    },
    {
      "cell_type": "code",
      "source": [
        "reverse = quote[::-1]\n",
        "print(reverse)"
      ],
      "metadata": {
        "colab": {
          "base_uri": "https://localhost:8080/"
        },
        "id": "cETnxOHq4enm",
        "outputId": "55b14a63-b81f-4b9f-e37c-c35b4fae651e"
      },
      "execution_count": 24,
      "outputs": [
        {
          "output_type": "stream",
          "name": "stdout",
          "text": [
            ".noitseuq eht si taht ,eb ot ton ro eb oT\n"
          ]
        }
      ]
    }
  ]
}